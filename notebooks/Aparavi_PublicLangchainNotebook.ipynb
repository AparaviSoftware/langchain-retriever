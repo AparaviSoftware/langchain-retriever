{
 "cells": [
  {
   "attachments": {},
   "cell_type": "markdown",
   "metadata": {},
   "source": [
    "[![Open In Colab](https://colab.research.google.com/assets/colab-badge.svg)](https://colab.research.google.com/github/pinecone-io/examples/blob/master/learn/generation/langchain/rag-chatbot.ipynb) [![Open nbviewer](https://raw.githubusercontent.com/pinecone-io/examples/master/assets/nbviewer-shield.svg)](https://nbviewer.org/github/pinecone-io/examples/blob/master/learn/generation/langchain/rag-chatbot.ipynb)"
   ]
  },
  {
   "attachments": {},
   "cell_type": "markdown",
   "metadata": {},
   "source": [
    "# APARAVI RAG as a Service \n",
    "Aparavi is a leader in the unstructured data space and its service in locating, quantizing and retrieving of large unstructured data files.\n",
    " \n",
    "This retriever is at your service to leverage Aparavi's RAG intelligence as a service to your LangChain pipeline and will enable you to build a smarter AI system with your local private or company data. \n",
    " \n",
    "This notebook goes over how to use a retriever that under the hood uses Aparavi's platform and RAG to retrieve the semantically most relevant documents to your query from your file system\n"
   ]
  },
  {
   "cell_type": "markdown",
   "metadata": {},
   "source": [
    "Please run \n",
    "\n",
    "##################\n",
    "!pip install -e .\n",
    "##################\n",
    "\n",
    "in project directory to install necessary local packages!"
   ]
  },
  {
   "cell_type": "code",
   "execution_count": 1,
   "metadata": {},
   "outputs": [],
   "source": [
    "# import the retriever from what will be our pip install \n",
    "from Aparavi_PublicLangchainRetriever.Aparavi_PublicLangchainRetriever import SemanticSearchRetriever\n",
    "\n",
    "\n",
    "# get the json library for fomatting\n",
    "import json\n"
   ]
  },
  {
   "cell_type": "markdown",
   "metadata": {},
   "source": [
    "### Define the configuration and login parameters\n",
    "\n",
    "These parameters are user specific. Given the user has a running aparavi platform on his machine, the configarations can be taken from the URL of the local hosting set up or client server. "
   ]
  },
  {
   "cell_type": "code",
   "execution_count": 18,
   "metadata": {},
   "outputs": [],
   "source": [
    "# server & port number\n",
    "server_url = \"localhost\"\n",
    "port = 80\n",
    "\n",
    "# user data \n",
    "user_id = \"root\"\n",
    "password = \"root\"\n",
    "\n",
    "# Aparavi Platform (Enter the name of your aggregator-collector here)\n",
    "store_path = '/SM-WS-57002 Aggregator-Collector/'\n"
   ]
  },
  {
   "cell_type": "markdown",
   "metadata": {},
   "source": [
    "Next step is to initialize the retriever and log in to the platform obtaining the authentication token"
   ]
  },
  {
   "cell_type": "code",
   "execution_count": 19,
   "metadata": {},
   "outputs": [],
   "source": [
    "retriever = SemanticSearchRetriever(user_id = 'root', password='root',server_url=server_url,port=port)"
   ]
  },
  {
   "cell_type": "markdown",
   "metadata": {},
   "source": [
    "Now the setup is complete and the user can start querying for unstructured data that has been previously loaded and vectorized by Aparavi's application. Simply define a user query (potentially targeted to some of your uploaded data) and decode the response as shown below. Results will be listed with an associated score indicating the semantic relevance to the user query. Furthermore, the response contains:\n",
    "\n",
    "  -  chunk ID: A numeric identifier for the data chunk.\n",
    "  -  Content: Text content that was vectorized, provided as a payload with the associated vector.\n",
    "  -  objectId: A unique identifier associated with the document/object of origin.\n",
    "  -  parent: File path in the file system.\n",
    "  -  permissionId: Permissions associated with the user.\n"
   ]
  },
  {
   "cell_type": "code",
   "execution_count": 20,
   "metadata": {},
   "outputs": [],
   "source": [
    "query='Please tell me about our last Human Ressources Policy Update?'"
   ]
  },
  {
   "cell_type": "markdown",
   "metadata": {},
   "source": [
    "Execute sematic search through the Aparavi Search Endpoint"
   ]
  },
  {
   "cell_type": "code",
   "execution_count": 21,
   "metadata": {},
   "outputs": [],
   "source": [
    "response = retriever.search(query=query,store_path=store_path, limit=5)"
   ]
  },
  {
   "cell_type": "code",
   "execution_count": 22,
   "metadata": {},
   "outputs": [
    {
     "name": "stdout",
     "output_type": "stream",
     "text": [
      "{\n",
      "    \"status\": \"OK\",\n",
      "    \"data\": [\n",
      "        {\n",
      "            \"chunk\": 490,\n",
      "            \"content\": \"\\u25cf It has raised the self-awareness of people managers of how they personally\\n\\nimpact upon others \\u2013 positively and negatively.\\n\\u25cf It is supporting a climate of continuous improvement.\\n\\u25cf It is starting to improve the climate/morale, as measured through our employee\\n\\nopinion survey.\\n\\u25cf Focused agenda for development. Forced line managers to discuss development\\n\\nissues.\\n\\u25cf Perception of feedback as more valid and objective, leading to acceptance of\\n\\nresults and actions required.\\n\\nBut there may be problems. These include:\\n\\n\\u25cf people not giving frank or honest feedback;\\n\\u25cf people being put under stress in receiving or giving feedback;\\n\\u25cf lack of action following feedback;\\n\\u25cf over-reliance on technology;\\n\\u25cf too much bureaucracy.\\n\\nThese can all be minimized if not avoided completely by careful design, communica-\\ntion, training and follow-up.\\n\\n360-DEGREE FEEDBACK \\u2013 CRITERIA FOR SUCCESS\\n\\n360-degree feedback is most likely to be successful when:\\n\\n\\u25cf it has the active support of top management who themselves take part in giving\\nand receiving feedback and encourage everyone else to do the same;\\n\\n\\u25cf there is commitment everywhere else to the process based on briefing, training\\nand an understanding of the benefits to individuals as well as the organization;\\n\\n\\u25cf there is real determination by all concerned to use feedback data as the basis for\\ndevelopment;\\n\\n\\u25cf questionnaire items fit or reflect typical and significant aspects of behaviour;\\n\\u25cf items covered in the questionnaire can be related to actual events experienced by\\n\\nthe individual;\\n\\u25cf comprehensive and well-delivered communication and training programmes are\\n\\nfollowed;\\n\\n360-degree feedback \\u275a 529\\n\\n\\u25cf no one feels threatened by the process \\u2013 this is usually often achieved by making\\nfeedback anonymous and/or getting a third-party facilitator to deliver the feed-\\nback;\\n\\n\\u25cf feedback questionnaires are relatively easy to complete (not unduly complex or\\nlengthy, with clear instructions);\\n\\n\\u25cf bureaucracy is minimized;\\n\\u25cf 360-degree feedback is not limited to pay \\u2013 its main purpose is developmental,\\n\\nnot financial reward.\\n\\nPart VIII\\n\\nHuman resource\\ndevelopment\\n\\nHuman resource development (HRD) is concerned with the provision of learning,\\ndevelopment and training opportunities in order to improve individual, team and\\norganizational performance. HRD is essentially a business-led approach to developing\\npeople within a strategic framework.\\n\\nThis part considers human resource development under the following headings:\\n\\n\\u25cf Strategic human resource development \\u2013 definition, aims and activities.\\n\\u25cf Organizational learning \\u2013 the process of organizational learning and the concept\\n\\nof the learning organization.\\n\",\n",
      "            \"context\": [\n",
      "                \"...mpact upon others \\u2013 positively and negatively.\\n\\u25cf \",\n",
      "                \"It is supporting a climate of continuous improvement\",\n",
      "                \".\\n\\u25cf It is starting to improve the climate/morale,...\"\n",
      "            ],\n",
      "            \"objectId\": \"903af6f5-iobj-4ab1-8fa7-e30a56c4b9b7@8d4b043f-apag-40d3-93d1-266bc6c06a36\",\n",
      "            \"parent\": \"C:/Users/HendrikKrack/Desktop/TestData_SemanticEndPoint/PERSONEL MANAGEMENT Handbook of Human Resource Management Practice 0749446315.pdf\",\n",
      "            \"permissionId\": -1,\n",
      "            \"score\": 0.1445048451423645\n",
      "        },\n",
      "        {\n",
      "            \"chunk\": 332,\n",
      "            \"content\": \"Business process re-engineering\\nBusiness process re-engineering as a panacea emerged in the 1990s. It examines\\nprocesses horizontally in organizations to establish how they can be integrated more\\neffectively and streamlined. Re-engineering exercises can provide an overall\\napproach to developing an organization but they often promise more than they\\nachieve and they have been criticized because they pay insufficient attention to the\\nhuman element.\\n\\nPerformance management\\nPerformance management as a holistic \\u2013 all-embracing \\u2013 process for managing\\nperformance throughout an organization is one of the most commonly used instru-\\nments for improving organizational effectiveness. It is described in Part VII.\\n\\nPart VI\\n\\nPeople resourcing\\n\\nPEOPLE RESOURCING DEFINED\\n\\nPeople resourcing is concerned with ensuring that the organization obtains and\\nretains the human capital it needs and employs them productively. It is also about\\nthose aspects of employment practice that are concerned with welcoming people to the\\norganization and, if there is no alternative, releasing them. It is a key part of the HRM\\nprocess.\\n\\nPEOPLE RESOURCING AND HRM\\n\\nHRM is fundamentally about matching human resources to the strategic and opera-\\ntional needs of the organization and ensuring the full utilization of those resources. It\\nis concerned not only with obtaining and keeping the number and quality of staff\\nrequired but also with selecting and promoting people who \\u2018fit\\u2019 the culture and the\\nstrategic requirements of the organization.\\n\\nHRM places more emphasis than traditional personnel management on finding\\npeople whose attitudes and behaviour are likely to be congruent with what manage-\\nment believes to be appropriate and conducive to success. In the words of Townley\\n(1989), organizations are concentrating more on \\u2018the attitudinal and behavioural\\n\\n360 \\u275a People resourcing\\n\\ncharacteristics of employees\\u2019. This tendency has its dangers. Innovative and adaptive\\norganizations need non-conformists, even mavericks, who can \\u2018buck the system\\u2019. If\\nmanagers recruit people \\u2018in their own image\\u2019 there is the risk of staffing the organiza-\\ntion with conformist clones and of perpetuating a dysfunctional culture \\u2013 one that\\nmay have been successful in the past but is no longer appropriate (nothing fails like\\nsuccess).\\n\\nThe HRM approach to resourcing therefore emphasizes that matching resources to\\norganizational requirements does not simply mean maintaining the status quo and\\nperpetuating a moribund culture. It can and often does mean radical changes in\\nthinking about the competencies required in the future to achieve sustainable growth\\nand to achieve cultural change. \",\n",
      "            \"context\": [\n",
      "                \"...ut\\n\",\n",
      "                \"those aspects of employment practice that are concerned with welcoming people to the\\norganization and, if there is no alternative, releasing them\",\n",
      "                \". ...\"\n",
      "            ],\n",
      "            \"objectId\": \"903af6f5-iobj-4ab1-8fa7-e30a56c4b9b7@8d4b043f-apag-40d3-93d1-266bc6c06a36\",\n",
      "            \"parent\": \"C:/Users/HendrikKrack/Desktop/TestData_SemanticEndPoint/PERSONEL MANAGEMENT Handbook of Human Resource Management Practice 0749446315.pdf\",\n",
      "            \"permissionId\": -1,\n",
      "            \"score\": 0.11017410457134247\n",
      "        },\n",
      "        {\n",
      "            \"chunk\": 318,\n",
      "            \"content\": \"oftness of the messages preached by the\\nbehavioural scientists. Managements in the later 1980s and 1990s wanted more\\nspecific prescriptions which would impact on processes they believed to be important\\nas means of improving performance, such as total quality management, business\\nprocess re-engineering and performance management. The need to manage change to\\nprocesses, systems or culture was still recognized as long as it was results driven,\\nrather than activity centred. Team-building activities in the new process-based orga-\\nnizations were also regarded favourably as long as they were directed towards\\nmeasurable improvements in the shorter term. It was also recognized that organiza-\\ntions were often compelled to transform themselves in the face of massive challenges\\nand external pressures, and traditional OD approaches would not make a sufficient\\nor speedy impact. A survey of the views of chief executives about organizational\\ndevelopment, (IPD, 1999a) found that a large proportion of them are expecting\\ngreater team contributions, more sophisticated people management practices and\\nprocesses for managing knowledge. As the IPD commented, \\u2018HR has a pivotal role in\\ndeveloping the behaviours and culture to support the delivery of these strategies.\\u2019\\n\\nCHANGE MANAGEMENT\\n\\nThe change process\\nConceptually, the change process starts with an awareness of the need for change. An\\nanalysis of this situation and the factors that have created it leads to a diagnosis of\\ntheir distinctive characteristics and an indication of the direction in which action\\nneeds to be taken. Possible courses of action can then be identified and evaluated and\\na choice made of the preferred action.\\n\\nIt is then necessary to decide how to get from here to there. Managing change\\nduring this transition state is a critical phase in the change process. It is here that the\\nproblems of introducing change emerge and have to be managed. These problems\\ncan include resistance to change, low stability, high levels of stress, misdirected\\nenergy, conflict and loss of momentum. Hence the need to do everything possible to\\nanticipate reactions and likely impediments to the introduction of change.\\n\\nThe installation stage can also be painful. When planning change there is a\\ntendency for people to think that it will be an entirely logical and linear process of\\n\\n344 \\u275a Organization, design and development\\n\\ngoing from A to B. It is not like that at all. \",\n",
      "            \"context\": [\n",
      "                \"...arge proportion of them are expecting\\n\",\n",
      "                \"greater team contributions, more sophisticated people management practices\",\n",
      "                \" and\\nprocesses for managing knowledge....\"\n",
      "            ],\n",
      "            \"objectId\": \"903af6f5-iobj-4ab1-8fa7-e30a56c4b9b7@8d4b043f-apag-40d3-93d1-266bc6c06a36\",\n",
      "            \"parent\": \"C:/Users/HendrikKrack/Desktop/TestData_SemanticEndPoint/PERSONEL MANAGEMENT Handbook of Human Resource Management Practice 0749446315.pdf\",\n",
      "            \"permissionId\": -1,\n",
      "            \"score\": 0.08038140088319778\n",
      "        },\n",
      "        {\n",
      "            \"chunk\": 235,\n",
      "            \"content\": \"Effort (motivation)\\ndepends on the\\nlikelihood that rewards\\nwill follow effort and\\nthat the reward is\\nworthwhile\\n\\nGoal Latham Motivation and Provides the rationale\\ntheory and Locke performance will for performance\\n\\nimprove if people have management\\ndifficult but agreed goals processes, goal\\nand receive feedback setting and feedback\\n\\nEquity Adams People are better Need to develop\\ntheory motivated if treated equitable reward and\\n\\nequitably employment practices\\n\\nIn addition, Alderfer (1972) developed his ERG theory, which refers to the need for\\nexistence, relatedness and growth. Maslow\\u2019s theory has been most influential.\\n\\nMaslow\\u2019s hierarchy of needs\\nThe most famous classification of needs is the one formulated by Maslow (1954). He\\nsuggested that there are five major need categories which apply to people in general,\\nstarting from the fundamental physiological needs and leading through a hierarchy\\nof safety, social and esteem needs to the need for self-fulfilment, the highest need of\\nall. Maslow\\u2018s hierarchy is as follows:\\n\\n1. Physiological \\u2013 the need for oxygen, food, water and sex.\\n\\n258 \\u275a Organizational behaviour\\n\\n2. Safety \\u2013 the need for protection against danger and the deprivation of physiolog-\\nical needs.\\n\\n3. Social \\u2013 the need for love, affection and acceptance as belonging to a group.\\n4. Esteem \\u2013 the need to have a stable, firmly based, high evaluation of oneself (self-\\n\\nesteem) and to have the respect of others (prestige). These needs may be classi-\\nfied into two subsidiary sets: first, the desire for achievement, for adequacy, for\\nconfidence in the face of the world, and for independence and freedom, and,\\nsecond, the desire for reputation or status defined as respect or esteem from other\\npeople, and manifested by recognition, attention, importance, or appreciation.\\n\\n5. Self-fulfilment (self-actualization) \\u2013 the need to develop potentialities and skills, to\\nbecome what one believes one is capable of becoming.\\n\\nMaslow\\u2019s theory of motivation states that when a lower need is satisfied, the next\\nhighest becomes dominant and the individual\\u2019s attention is turned to satisfying\\nthis higher need. The need for self-fulfilment, however, can never be satisfied. He\\nsaid that \\u2018man is a wanting animal\\u2019; only an unsatisfied need can motivate behaviour\\nand the dominant need is the prime motivator of behaviour. Psychological develop-\\nment takes place as people move up the hierarchy of needs, but this is not necessarily\\na straightforward progression. \",\n",
      "            \"context\": [\n",
      "                \"...\",\n",
      "                \"safety, social and esteem needs to the need for self-fulfilment, the highest need of\\nall. Maslow\\u2018s hierarchy is as follows:\\n\\n1. Physiological \\u2013 the need for oxygen, food, water and sex\",\n",
      "                \"...\"\n",
      "            ],\n",
      "            \"objectId\": \"903af6f5-iobj-4ab1-8fa7-e30a56c4b9b7@8d4b043f-apag-40d3-93d1-266bc6c06a36\",\n",
      "            \"parent\": \"C:/Users/HendrikKrack/Desktop/TestData_SemanticEndPoint/PERSONEL MANAGEMENT Handbook of Human Resource Management Practice 0749446315.pdf\",\n",
      "            \"permissionId\": -1,\n",
      "            \"score\": 0.06704131513834\n",
      "        },\n",
      "        {\n",
      "            \"chunk\": 316,\n",
      "            \"content\": \"Argyris (1970)\\nsummed up the three primary tasks of the OD practitioner or interventionist as\\nbeing to:\\n\\n342 \\u275a Organization, design and development\\n\\n\\u2013 generate and help clients to generate valid information that they can under-\\nstand about their problems;\\n\\n\\u2013 create opportunities for clients to search effectively for solutions to their prob-\\nlems, to make free choices;\\n\\n\\u2013 create conditions for internal commitment to their choices and opportunities\\nfor the continual monitoring of the action taken.\\n\\n\\u25cf Process consultation. As described by Schein (1969), this involves helping clients to\\ngenerate and analyse information that they can understand and, following a thor-\\nough diagnosis, act upon. The information will relate to organizational processes\\nsuch as inter-group relations, interpersonal relations and communications. The\\njob of the process consultant was defined by Schein as being to \\u2018help the organi-\\nzation to solve its own problems by making it aware of organizational processes,\\nof the consequences of these processes, and of the mechanisms by which they can\\nbe changed\\u2019.\\n\\n\\u25cf Team-building interventions as discussed later in this chapter. These deal with\\npermanent work teams or those set up to deal with projects or to solve particular\\nproblems. Interventions are directed towards the analysis of the effectiveness of\\nteam processes such as problem solving, decision making and interpersonal rela-\\ntionships, a diagnosis and discussion of the issues and joint consideration of the\\nactions required to improve effectiveness.\\n\\n\\u25cf Inter-group conflict interventions. As developed by Blake et al (1964), these aim to\\nimprove inter-group relations by getting groups to share their perceptions of one\\nanother and to analyse what they have learned about themselves and the other\\ngroup. The groups involved meet each other to share what they have learnt, to\\nagree on the issues to be resolved and the actions required.\\n\\n\\u25cf Personal interventions. These include sensitivity training laboratories (T-groups),\\ntransactional analysis and, more recently, neuro-linguistic programming (NLP).\\nAnother approach is behaviour modelling, which is based on Bandura\\u2019s (1977)\\nsocial learning theory. This states that for people to engage successfully in a\\nbehaviour they 1) must perceive a link between the behaviour and certain\\noutcomes, 2) must desire those outcomes (this is termed \\u2018positive valence\\u2019), and 3)\\nmust believe they can do it (termed \\u2018self-efficacy\\u2019). \",\n",
      "            \"context\": [\n",
      "                \"...d development\\n\\n\\u2013 generate and \",\n",
      "                \"help clients to generate valid information that they can under-\\nstand about their problems\",\n",
      "                \";\\n\\n\\u2013 create opportunities for ...\"\n",
      "            ],\n",
      "            \"objectId\": \"903af6f5-iobj-4ab1-8fa7-e30a56c4b9b7@8d4b043f-apag-40d3-93d1-266bc6c06a36\",\n",
      "            \"parent\": \"C:/Users/HendrikKrack/Desktop/TestData_SemanticEndPoint/PERSONEL MANAGEMENT Handbook of Human Resource Management Practice 0749446315.pdf\",\n",
      "            \"permissionId\": -1,\n",
      "            \"score\": 0.025904346257448196\n",
      "        }\n",
      "    ]\n",
      "}\n"
     ]
    }
   ],
   "source": [
    "print(json.dumps(response, indent=4))"
   ]
  },
  {
   "cell_type": "code",
   "execution_count": null,
   "metadata": {},
   "outputs": [],
   "source": [
    "!pip install langchain openai"
   ]
  },
  {
   "cell_type": "code",
   "execution_count": null,
   "metadata": {},
   "outputs": [],
   "source": [
    "import os\n",
    "from langchain.chat_models import ChatOpenAI\n",
    "\n",
    "from langchain.schema import (\n",
    "    SystemMessage,\n",
    "    HumanMessage,\n",
    ")\n",
    "\n",
    "os.environ[\"OPENAI_API_KEY\"] = \"sk-***********************\"\n",
    "\n",
    "# initialize OpenAi to return a good answer with the augmented prompt\n",
    "chat = ChatOpenAI(\n",
    "    openai_api_key=os.environ[\"OPENAI_API_KEY\"],\n",
    "    model='gpt-3.5-turbo'\n",
    ")\n",
    "\n",
    "# augment the user prompt with the knowledge retrieved from the vector DB\n",
    "def augment_prompt(query: str, context):\n",
    "\n",
    "    # feed into an augmented prompt\n",
    "    augmented_prompt = f\"\"\" \n",
    "\n",
    "    Using the context below pleasse answer this query. \n",
    "        \n",
    "    Contexts:\n",
    "    {context}\n",
    "\n",
    "    Query: {query}\"\"\"\n",
    "    return augmented_prompt\n",
    "\n",
    "messages = [\n",
    "    SystemMessage(content=\"You are a helpful assistant. Focus on the context provided.\"),\n",
    "    HumanMessage(content=augment_prompt(query, response))\n",
    "]\n",
    "\n",
    "\n",
    "# let the ChatGPT contextualize the relevant information to a readable response \n",
    "response = chat(messages)\n",
    "print(\"Response from ChatGPT augmented with RAG:\\n----------------------\\n\", response.content)"
   ]
  }
 ],
 "metadata": {
  "kernelspec": {
   "display_name": "Python 3 (ipykernel)",
   "language": "python",
   "name": "python3"
  },
  "language_info": {
   "codemirror_mode": {
    "name": "ipython",
    "version": 3
   },
   "file_extension": ".py",
   "mimetype": "text/x-python",
   "name": "python",
   "nbconvert_exporter": "python",
   "pygments_lexer": "ipython3",
   "version": "3.12.0"
  }
 },
 "nbformat": 4,
 "nbformat_minor": 4
}
